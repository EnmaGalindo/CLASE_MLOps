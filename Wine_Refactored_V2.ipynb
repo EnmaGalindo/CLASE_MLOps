{
  "cells": [
    {
      "cell_type": "markdown",
      "metadata": {
        "id": "vqRj4eAv3HIq"
      },
      "source": [
        "# Setup"
      ]
    },
    {
      "cell_type": "code",
      "execution_count": 1,
      "metadata": {
        "id": "mJnyj2i-3HIt"
      },
      "outputs": [],
      "source": [
        "import pandas as pd\n",
        "import numpy as np\n",
        "import seaborn as sns\n",
        "import matplotlib.pyplot as plt\n",
        "from sklearn.base import BaseEstimator, TransformerMixin\n",
        "from sklearn.pipeline import Pipeline\n",
        "from sklearn.preprocessing import StandardScaler\n",
        "from sklearn.model_selection import train_test_split, cross_val_score\n",
        "from sklearn.linear_model import LogisticRegression\n",
        "from sklearn.metrics import confusion_matrix, classification_report\n",
        "from sklearn.metrics import ConfusionMatrixDisplay"
      ]
    },
    {
      "cell_type": "markdown",
      "metadata": {
        "id": "1vyYQ4nQ3HIv"
      },
      "source": [
        "# Creating the classes"
      ]
    },
    {
      "cell_type": "markdown",
      "metadata": {
        "id": "gKfLQb6x3HIv"
      },
      "source": [
        "### Data Explorer"
      ]
    },
    {
      "cell_type": "code",
      "execution_count": 2,
      "metadata": {
        "id": "TDWcmUt03HIw"
      },
      "outputs": [],
      "source": [
        "class DataExplorer:\n",
        "    @staticmethod\n",
        "    def explore_data(data):\n",
        "        print(data.head().T)\n",
        "        print(data.describe())\n",
        "        print(data.info())\n",
        "\n",
        "    @staticmethod\n",
        "    def plot_histograms(data):\n",
        "        data.hist(bins=15, figsize=(15, 10))\n",
        "        plt.show()\n",
        "\n",
        "    @staticmethod\n",
        "    def plot_correlation_matrix(data):\n",
        "        plt.figure(figsize=(12, 8))\n",
        "        sns.heatmap(data.corr(), annot=True, fmt=\".2f\", cmap='coolwarm')\n",
        "        plt.show()\n"
      ]
    },
    {
      "cell_type": "markdown",
      "metadata": {
        "id": "oIuKNMJz3HIw"
      },
      "source": [
        "### Wine Quality Model"
      ]
    },
    {
      "cell_type": "code",
      "execution_count": 3,
      "metadata": {
        "id": "SASIH3JY3HIy"
      },
      "outputs": [],
      "source": [
        "class WineQualityModel:\n",
        "    def __init__(self, filepath):\n",
        "        self.filepath = filepath\n",
        "        self.model_pipeline = Pipeline([\n",
        "            ('scaler', StandardScaler()),\n",
        "            ('classifier', LogisticRegression(max_iter=1000))\n",
        "        ])\n",
        "        self.X_train, self.X_test, self.y_train, self.y_test = [None] * 4\n",
        "\n",
        "    def load_data(self):\n",
        "        self.data = pd.read_csv(self.filepath)\n",
        "        DataExplorer.explore_data(self.data)\n",
        "        return self\n",
        "\n",
        "    def preprocess_data(self):\n",
        "        X = self.data.drop('quality', axis=1)\n",
        "        y = self.data['quality']\n",
        "        self.X_train, self.X_test, self.y_train, self.y_test = train_test_split(X, y, test_size=0.2, random_state=42)\n",
        "        return self\n",
        "\n",
        "    def train_model(self):\n",
        "        self.model_pipeline.fit(self.X_train, self.y_train)\n",
        "        return self\n",
        "\n",
        "    def evaluate_model(self):\n",
        "        print(\"Model Evaluation:\")\n",
        "        y_pred = self.model_pipeline.predict(self.X_test)\n",
        "        cm = confusion_matrix(self.y_test, y_pred)\n",
        "        disp = ConfusionMatrixDisplay(confusion_matrix=cm, display_labels=np.unique(self.y_test))\n",
        "        disp.plot(cmap='Blues')\n",
        "        plt.show()\n",
        "\n",
        "        report = classification_report(self.y_test, y_pred)\n",
        "        print(\"Classification Report:\")\n",
        "        print(report)\n",
        "        return self\n",
        "\n",
        "    def cross_validate_model(self):\n",
        "        scores = cross_val_score(self.model_pipeline, self.X_train, self.y_train, cv=5)\n",
        "        print(\"Average Accuracy with CV:\", np.mean(scores))\n",
        "        return self\n"
      ]
    },
    {
      "cell_type": "markdown",
      "metadata": {
        "id": "z3_Ku-F_3HIz"
      },
      "source": [
        "# Executing the code"
      ]
    },
    {
      "cell_type": "code",
      "execution_count": 4,
      "metadata": {
        "colab": {
          "base_uri": "https://localhost:8080/",
          "height": 1000
        },
        "id": "9ffQCVu23HIz",
        "outputId": "2b425c43-3c7f-4234-96fa-40b54cf572cc"
      },
      "outputs": [
        {
          "output_type": "stream",
          "name": "stdout",
          "text": [
            "                            0        1       2       3        4\n",
            "fixed_acidity          7.4000   7.8000   7.800  11.200   7.4000\n",
            "volatile_acidity       0.7000   0.8800   0.760   0.280   0.7000\n",
            "citric_acid            0.0000   0.0000   0.040   0.560   0.0000\n",
            "residual_sugar         1.9000   2.6000   2.300   1.900   1.9000\n",
            "chlorides              0.0760   0.0980   0.092   0.075   0.0760\n",
            "free_sulfur_dioxide   11.0000  25.0000  15.000  17.000  11.0000\n",
            "total_sulfur_dioxide  34.0000  67.0000  54.000  60.000  34.0000\n",
            "density                0.9978   0.9968   0.997   0.998   0.9978\n",
            "pH                     3.5100   3.2000   3.260   3.160   3.5100\n",
            "sulphates              0.5600   0.6800   0.650   0.580   0.5600\n",
            "alcohol                9.4000   9.8000   9.800   9.800   9.4000\n",
            "quality                5.0000   5.0000   5.000   6.000   5.0000\n",
            "       fixed_acidity  volatile_acidity  citric_acid  residual_sugar  \\\n",
            "count    6497.000000       6497.000000  6497.000000     6497.000000   \n",
            "mean        7.215307          0.339666     0.318633        5.443235   \n",
            "std         1.296434          0.164636     0.145318        4.757804   \n",
            "min         3.800000          0.080000     0.000000        0.600000   \n",
            "25%         6.400000          0.230000     0.250000        1.800000   \n",
            "50%         7.000000          0.290000     0.310000        3.000000   \n",
            "75%         7.700000          0.400000     0.390000        8.100000   \n",
            "max        15.900000          1.580000     1.660000       65.800000   \n",
            "\n",
            "         chlorides  free_sulfur_dioxide  total_sulfur_dioxide      density  \\\n",
            "count  6497.000000          6497.000000           6497.000000  6497.000000   \n",
            "mean      0.056034            30.525319            115.744574     0.994697   \n",
            "std       0.035034            17.749400             56.521855     0.002999   \n",
            "min       0.009000             1.000000              6.000000     0.987110   \n",
            "25%       0.038000            17.000000             77.000000     0.992340   \n",
            "50%       0.047000            29.000000            118.000000     0.994890   \n",
            "75%       0.065000            41.000000            156.000000     0.996990   \n",
            "max       0.611000           289.000000            440.000000     1.038980   \n",
            "\n",
            "                pH    sulphates      alcohol      quality  \n",
            "count  6497.000000  6497.000000  6497.000000  6497.000000  \n",
            "mean      3.218501     0.531268    10.491801     5.818378  \n",
            "std       0.160787     0.148806     1.192712     0.873255  \n",
            "min       2.720000     0.220000     8.000000     3.000000  \n",
            "25%       3.110000     0.430000     9.500000     5.000000  \n",
            "50%       3.210000     0.510000    10.300000     6.000000  \n",
            "75%       3.320000     0.600000    11.300000     6.000000  \n",
            "max       4.010000     2.000000    14.900000     9.000000  \n",
            "<class 'pandas.core.frame.DataFrame'>\n",
            "RangeIndex: 6497 entries, 0 to 6496\n",
            "Data columns (total 12 columns):\n",
            " #   Column                Non-Null Count  Dtype  \n",
            "---  ------                --------------  -----  \n",
            " 0   fixed_acidity         6497 non-null   float64\n",
            " 1   volatile_acidity      6497 non-null   float64\n",
            " 2   citric_acid           6497 non-null   float64\n",
            " 3   residual_sugar        6497 non-null   float64\n",
            " 4   chlorides             6497 non-null   float64\n",
            " 5   free_sulfur_dioxide   6497 non-null   float64\n",
            " 6   total_sulfur_dioxide  6497 non-null   float64\n",
            " 7   density               6497 non-null   float64\n",
            " 8   pH                    6497 non-null   float64\n",
            " 9   sulphates             6497 non-null   float64\n",
            " 10  alcohol               6497 non-null   float64\n",
            " 11  quality               6497 non-null   int64  \n",
            "dtypes: float64(11), int64(1)\n",
            "memory usage: 609.2 KB\n",
            "None\n",
            "Model Evaluation:\n"
          ]
        },
        {
          "output_type": "display_data",
          "data": {
            "text/plain": [
              "<Figure size 640x480 with 2 Axes>"
            ],
            "image/png": "[encoded data removed]"
          },
          "metadata": {}
        },
        {
          "output_type": "stream",
          "name": "stderr",
          "text": [
            "/usr/local/lib/python3.10/dist-packages/sklearn/metrics/_classification.py:1531: UndefinedMetricWarning: Precision is ill-defined and being set to 0.0 in labels with no predicted samples. Use `zero_division` parameter to control this behavior.\n",
            "  _warn_prf(average, modifier, f\"{metric.capitalize()} is\", len(result))\n",
            "/usr/local/lib/python3.10/dist-packages/sklearn/metrics/_classification.py:1531: UndefinedMetricWarning: Precision is ill-defined and being set to 0.0 in labels with no predicted samples. Use `zero_division` parameter to control this behavior.\n",
            "  _warn_prf(average, modifier, f\"{metric.capitalize()} is\", len(result))\n",
            "/usr/local/lib/python3.10/dist-packages/sklearn/metrics/_classification.py:1531: UndefinedMetricWarning: Precision is ill-defined and being set to 0.0 in labels with no predicted samples. Use `zero_division` parameter to control this behavior.\n",
            "  _warn_prf(average, modifier, f\"{metric.capitalize()} is\", len(result))\n",
            "/usr/local/lib/python3.10/dist-packages/sklearn/model_selection/_split.py:776: UserWarning: The least populated class in y has only 4 members, which is less than n_splits=5.\n",
            "  warnings.warn(\n"
          ]
        },
        {
          "output_type": "stream",
          "name": "stdout",
          "text": [
            "Classification Report:\n",
            "              precision    recall  f1-score   support\n",
            "\n",
            "           3       1.00      0.17      0.29         6\n",
            "           4       0.00      0.00      0.00        43\n",
            "           5       0.54      0.61      0.57       402\n",
            "           6       0.54      0.68      0.60       597\n",
            "           7       0.50      0.20      0.29       215\n",
            "           8       0.00      0.00      0.00        36\n",
            "           9       0.00      0.00      0.00         1\n",
            "\n",
            "    accuracy                           0.54      1300\n",
            "   macro avg       0.37      0.24      0.25      1300\n",
            "weighted avg       0.50      0.54      0.50      1300\n",
            "\n",
            "Average Accuracy with CV: 0.5480106611386688\n"
          ]
        },
        {
          "output_type": "execute_result",
          "data": {
            "text/plain": [
              "<__main__.WineQualityModel at 0x7bf3605889a0>"
            ]
          },
          "metadata": {},
          "execution_count": 4
        }
      ],
      "source": [
        "filepath=r'https://raw.githubusercontent.com/EnmaGalindo/CLASE_MLOps/main/wine_quality_df.csv'\n",
        "\n",
        "model = WineQualityModel(filepath)\n",
        "model.load_data()\n",
        "model.preprocess_data()\n",
        "model.train_model()\n",
        "model.evaluate_model()\n",
        "model.cross_validate_model()"
      ]
    }
  ],
  "metadata": {
    "kernelspec": {
      "display_name": "practice3",
      "language": "python",
      "name": "python3"
    },
    "language_info": {
      "codemirror_mode": {
        "name": "ipython",
        "version": 3
      },
      "file_extension": ".py",
      "mimetype": "text/x-python",
      "name": "python",
      "nbconvert_exporter": "python",
      "pygments_lexer": "ipython3",
      "version": "3.11.5"
    },
    "colab": {
      "provenance": []
    }
  },
  "nbformat": 4,
  "nbformat_minor": 0
}
